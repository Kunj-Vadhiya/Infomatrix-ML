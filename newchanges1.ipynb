{
 "cells": [
  {
   "cell_type": "code",
   "execution_count": 1,
   "id": "72cc67e7",
   "metadata": {
    "_cell_guid": "b1076dfc-b9ad-4769-8c92-a6c4dae69d19",
    "_uuid": "8f2839f25d086af736a60e9eeb907d3b93b6e0e5",
    "execution": {
     "iopub.execute_input": "2025-09-28T17:38:05.372282Z",
     "iopub.status.busy": "2025-09-28T17:38:05.371963Z",
     "iopub.status.idle": "2025-09-28T17:38:07.513963Z",
     "shell.execute_reply": "2025-09-28T17:38:07.512908Z"
    },
    "papermill": {
     "duration": 2.152579,
     "end_time": "2025-09-28T17:38:07.515650",
     "exception": false,
     "start_time": "2025-09-28T17:38:05.363071",
     "status": "completed"
    },
    "tags": []
   },
   "outputs": [
    {
     "name": "stdout",
     "output_type": "stream",
     "text": [
      "/kaggle/input/zillow-prize-1/properties_2017.csv\n",
      "/kaggle/input/zillow-prize-1/sample_submission.csv\n",
      "/kaggle/input/zillow-prize-1/zillow_data_dictionary.xlsx\n",
      "/kaggle/input/zillow-prize-1/train_2016_v2.csv\n",
      "/kaggle/input/zillow-prize-1/properties_2016.csv\n",
      "/kaggle/input/zillow-prize-1/train_2017.csv\n"
     ]
    }
   ],
   "source": [
    "# This Python 3 environment comes with many helpful analytics libraries installed\n",
    "# It is defined by the kaggle/python Docker image: https://github.com/kaggle/docker-python\n",
    "# For example, here's several helpful packages to load\n",
    "\n",
    "import numpy as np # linear algebra\n",
    "import pandas as pd # data processing, CSV file I/O (e.g. pd.read_csv)\n",
    "\n",
    "# Input data files are available in the read-only \"../input/\" directory\n",
    "# For example, running this (by clicking run or pressing Shift+Enter) will list all files under the input directory\n",
    "\n",
    "import os\n",
    "for dirname, _, filenames in os.walk('/kaggle/input/zillow-prize-1'):\n",
    "    for filename in filenames:\n",
    "        print(os.path.join(dirname, filename))\n",
    "\n",
    "# You can write up to 20GB to the current directory (/kaggle/working/) that gets preserved as output when you create a version using \"Save & Run All\" \n",
    "# You can also write temporary files to /kaggle/temp/, but they won't be saved outside of the current session"
   ]
  },
  {
   "cell_type": "code",
   "execution_count": 2,
   "id": "50a90997",
   "metadata": {
    "execution": {
     "iopub.execute_input": "2025-09-28T17:38:07.530066Z",
     "iopub.status.busy": "2025-09-28T17:38:07.529616Z",
     "iopub.status.idle": "2025-09-28T17:38:10.221901Z",
     "shell.execute_reply": "2025-09-28T17:38:10.220855Z"
    },
    "papermill": {
     "duration": 2.701472,
     "end_time": "2025-09-28T17:38:10.223947",
     "exception": false,
     "start_time": "2025-09-28T17:38:07.522475",
     "status": "completed"
    },
    "tags": []
   },
   "outputs": [],
   "source": [
    "import matplotlib.pyplot as plt\n",
    "import seaborn as sns\n",
    "\n",
    "from sklearn.model_selection import train_test_split, GridSearchCV\n",
    "from sklearn.linear_model import LinearRegression, Ridge, Lasso\n",
    "from sklearn.metrics import mean_absolute_error\n",
    "from sklearn.preprocessing import StandardScaler"
   ]
  },
  {
   "cell_type": "code",
   "execution_count": 3,
   "id": "9251fdd9",
   "metadata": {
    "execution": {
     "iopub.execute_input": "2025-09-28T17:38:10.238113Z",
     "iopub.status.busy": "2025-09-28T17:38:10.237641Z",
     "iopub.status.idle": "2025-09-28T17:39:02.532453Z",
     "shell.execute_reply": "2025-09-28T17:39:02.531251Z"
    },
    "papermill": {
     "duration": 52.304131,
     "end_time": "2025-09-28T17:39:02.534565",
     "exception": false,
     "start_time": "2025-09-28T17:38:10.230434",
     "status": "completed"
    },
    "tags": []
   },
   "outputs": [
    {
     "name": "stderr",
     "output_type": "stream",
     "text": [
      "/tmp/ipykernel_13/2897821396.py:3: DtypeWarning: Columns (22,32,34,49,55) have mixed types. Specify dtype option on import or set low_memory=False.\n",
      "  prop_2016 = pd.read_csv(\"/kaggle/input/zillow-prize-1/properties_2016.csv\")\n",
      "/tmp/ipykernel_13/2897821396.py:4: DtypeWarning: Columns (49) have mixed types. Specify dtype option on import or set low_memory=False.\n",
      "  prop_2017 = pd.read_csv(\"/kaggle/input/zillow-prize-1/properties_2017.csv\")\n"
     ]
    }
   ],
   "source": [
    "train_2016 = pd.read_csv(\"/kaggle/input/zillow-prize-1/train_2016_v2.csv\")\n",
    "train_2017 = pd.read_csv(\"/kaggle/input/zillow-prize-1/train_2017.csv\")\n",
    "prop_2016 = pd.read_csv(\"/kaggle/input/zillow-prize-1/properties_2016.csv\")\n",
    "prop_2017 = pd.read_csv(\"/kaggle/input/zillow-prize-1/properties_2017.csv\")\n",
    "sample_submission = pd.read_csv(\"/kaggle/input/zillow-prize-1/sample_submission.csv\")"
   ]
  },
  {
   "cell_type": "code",
   "execution_count": 4,
   "id": "7fe68f9c",
   "metadata": {
    "execution": {
     "iopub.execute_input": "2025-09-28T17:39:02.549511Z",
     "iopub.status.busy": "2025-09-28T17:39:02.549158Z",
     "iopub.status.idle": "2025-09-28T17:39:05.337724Z",
     "shell.execute_reply": "2025-09-28T17:39:05.336338Z"
    },
    "papermill": {
     "duration": 2.797851,
     "end_time": "2025-09-28T17:39:05.339632",
     "exception": false,
     "start_time": "2025-09-28T17:39:02.541781",
     "status": "completed"
    },
    "tags": []
   },
   "outputs": [],
   "source": [
    "df_2016 = train_2016.merge(prop_2016, on=\"parcelid\", how=\"left\")\n",
    "df_2017 = train_2017.merge(prop_2017, on=\"parcelid\", how=\"left\")\n",
    "df = pd.concat([df_2016, df_2017], axis=0) # merging"
   ]
  },
  {
   "cell_type": "code",
   "execution_count": 5,
   "id": "dafc0868",
   "metadata": {
    "execution": {
     "iopub.execute_input": "2025-09-28T17:39:05.354470Z",
     "iopub.status.busy": "2025-09-28T17:39:05.354177Z",
     "iopub.status.idle": "2025-09-28T17:39:05.661086Z",
     "shell.execute_reply": "2025-09-28T17:39:05.660151Z"
    },
    "papermill": {
     "duration": 0.316469,
     "end_time": "2025-09-28T17:39:05.662616",
     "exception": false,
     "start_time": "2025-09-28T17:39:05.346147",
     "status": "completed"
    },
    "tags": []
   },
   "outputs": [
    {
     "data": {
      "image/png": "[encoded data removed]",
      "text/plain": [
       "<Figure size 1000x500 with 1 Axes>"
      ]
     },
     "metadata": {},
     "output_type": "display_data"
    }
   ],
   "source": [
    "plt.figure(figsize=(10,5))\n",
    "sns.boxplot(x=df[\"logerror\"],color=\"skyblue\")\n",
    "plt.title(\"Logerror Boxplot\")\n",
    "plt.show()"
   ]
  },
  {
   "cell_type": "code",
   "execution_count": 6,
   "id": "e17d122b",
   "metadata": {
    "execution": {
     "iopub.execute_input": "2025-09-28T17:39:05.677406Z",
     "iopub.status.busy": "2025-09-28T17:39:05.677092Z",
     "iopub.status.idle": "2025-09-28T17:39:05.745094Z",
     "shell.execute_reply": "2025-09-28T17:39:05.743925Z"
    },
    "papermill": {
     "duration": 0.077315,
     "end_time": "2025-09-28T17:39:05.746788",
     "exception": false,
     "start_time": "2025-09-28T17:39:05.669473",
     "status": "completed"
    },
    "tags": []
   },
   "outputs": [],
   "source": [
    "df = df[(df[\"logerror\"] > -3) & (df[\"logerror\"] < 3)] # removing outliers"
   ]
  },
  {
   "cell_type": "code",
   "execution_count": 7,
   "id": "69d04825",
   "metadata": {
    "execution": {
     "iopub.execute_input": "2025-09-28T17:39:05.762200Z",
     "iopub.status.busy": "2025-09-28T17:39:05.761110Z",
     "iopub.status.idle": "2025-09-28T17:39:05.919566Z",
     "shell.execute_reply": "2025-09-28T17:39:05.918651Z"
    },
    "papermill": {
     "duration": 0.1676,
     "end_time": "2025-09-28T17:39:05.921111",
     "exception": false,
     "start_time": "2025-09-28T17:39:05.753511",
     "status": "completed"
    },
    "tags": []
   },
   "outputs": [
    {
     "data": {
      "image/png": "[encoded data removed]",
      "text/plain": [
       "<Figure size 1000x500 with 1 Axes>"
      ]
     },
     "metadata": {},
     "output_type": "display_data"
    }
   ],
   "source": [
    "plt.figure(figsize=(10,5))\n",
    "sns.boxplot(x=df[\"logerror\"],color=\"lightgreen\")\n",
    "plt.title(\"Logerror Boxplot\")\n",
    "plt.show()"
   ]
  },
  {
   "cell_type": "code",
   "execution_count": 8,
   "id": "be272ca7",
   "metadata": {
    "execution": {
     "iopub.execute_input": "2025-09-28T17:39:05.936808Z",
     "iopub.status.busy": "2025-09-28T17:39:05.935780Z",
     "iopub.status.idle": "2025-09-28T17:39:06.054983Z",
     "shell.execute_reply": "2025-09-28T17:39:06.053942Z"
    },
    "papermill": {
     "duration": 0.128761,
     "end_time": "2025-09-28T17:39:06.056872",
     "exception": false,
     "start_time": "2025-09-28T17:39:05.928111",
     "status": "completed"
    },
    "tags": []
   },
   "outputs": [],
   "source": [
    "# Drop columns with too many NaNs\n",
    "missing_ratio = df.isnull().mean()\n",
    "drop_cols = missing_ratio[missing_ratio > 0.8].index\n",
    "df = df.drop(columns=drop_cols)"
   ]
  },
  {
   "cell_type": "code",
   "execution_count": 9,
   "id": "130a3710",
   "metadata": {
    "execution": {
     "iopub.execute_input": "2025-09-28T17:39:06.072134Z",
     "iopub.status.busy": "2025-09-28T17:39:06.071759Z",
     "iopub.status.idle": "2025-09-28T17:39:06.304283Z",
     "shell.execute_reply": "2025-09-28T17:39:06.303401Z"
    },
    "papermill": {
     "duration": 0.242015,
     "end_time": "2025-09-28T17:39:06.306058",
     "exception": false,
     "start_time": "2025-09-28T17:39:06.064043",
     "status": "completed"
    },
    "tags": []
   },
   "outputs": [],
   "source": [
    "# Fill NaNs \n",
    "for col in df.columns:\n",
    "    if df[col].dtype != \"object\":\n",
    "        df[col] = df[col].fillna(df[col].median()) \n",
    "    else:\n",
    "        df[col] = df[col].fillna(df[col].mode()[0])"
   ]
  },
  {
   "cell_type": "code",
   "execution_count": 10,
   "id": "f5845173",
   "metadata": {
    "execution": {
     "iopub.execute_input": "2025-09-28T17:39:06.321490Z",
     "iopub.status.busy": "2025-09-28T17:39:06.320711Z",
     "iopub.status.idle": "2025-09-28T17:39:06.399074Z",
     "shell.execute_reply": "2025-09-28T17:39:06.397999Z"
    },
    "papermill": {
     "duration": 0.087949,
     "end_time": "2025-09-28T17:39:06.400909",
     "exception": false,
     "start_time": "2025-09-28T17:39:06.312960",
     "status": "completed"
    },
    "tags": []
   },
   "outputs": [],
   "source": [
    "# Convert all categorical columns ( get_dummies for big dataset)\n",
    "for col in df.select_dtypes(include=\"object\").columns:\n",
    "    df[col] = df[col].astype(\"category\").cat.codes"
   ]
  },
  {
   "cell_type": "code",
   "execution_count": 11,
   "id": "36baf77c",
   "metadata": {
    "execution": {
     "iopub.execute_input": "2025-09-28T17:39:06.416277Z",
     "iopub.status.busy": "2025-09-28T17:39:06.415958Z",
     "iopub.status.idle": "2025-09-28T17:39:06.529297Z",
     "shell.execute_reply": "2025-09-28T17:39:06.528507Z"
    },
    "papermill": {
     "duration": 0.122836,
     "end_time": "2025-09-28T17:39:06.530782",
     "exception": false,
     "start_time": "2025-09-28T17:39:06.407946",
     "status": "completed"
    },
    "tags": []
   },
   "outputs": [],
   "source": [
    "#  Feature Engineering\n",
    "df['transactiondate'] = pd.to_datetime(df['transactiondate'])\n",
    "df['trans_year'] = df['transactiondate'].dt.year\n",
    "df['trans_month'] = df['transactiondate'].dt.month\n",
    "df['trans_quarter'] = df['transactiondate'].dt.quarter\n",
    "df.drop(columns=['transactiondate'], inplace=True)\n",
    "\n",
    "df['bath_per_bed'] = df['bathroomcnt'] / (df['bedroomcnt']+1)\n",
    "df['room_sum'] = df['bathroomcnt'] + df['bedroomcnt']\n",
    "df['living_area_ratio'] = df['calculatedfinishedsquarefeet'] / (df['lotsizesquarefeet']+1)\n",
    "df['value_per_sqft'] = df['taxvaluedollarcnt'] / (df['calculatedfinishedsquarefeet']+1)\n",
    "\n",
    "cols = [\"lotsizesquarefeet\", \"calculatedfinishedsquarefeet\", \"taxvaluedollarcnt\"]\n",
    "for col in cols:\n",
    "    if col in df.columns:\n",
    "        df[col] = np.log1p(df[col])"
   ]
  },
  {
   "cell_type": "code",
   "execution_count": 12,
   "id": "d0425a33",
   "metadata": {
    "execution": {
     "iopub.execute_input": "2025-09-28T17:39:06.545640Z",
     "iopub.status.busy": "2025-09-28T17:39:06.545364Z",
     "iopub.status.idle": "2025-09-28T17:39:06.580301Z",
     "shell.execute_reply": "2025-09-28T17:39:06.579302Z"
    },
    "papermill": {
     "duration": 0.044576,
     "end_time": "2025-09-28T17:39:06.582338",
     "exception": false,
     "start_time": "2025-09-28T17:39:06.537762",
     "status": "completed"
    },
    "tags": []
   },
   "outputs": [],
   "source": [
    "# Drop parcelid\n",
    "if \"parcelid\" in df.columns:\n",
    "    df = df.drop(columns=[\"parcelid\"])"
   ]
  },
  {
   "cell_type": "code",
   "execution_count": 13,
   "id": "4859cc29",
   "metadata": {
    "execution": {
     "iopub.execute_input": "2025-09-28T17:39:06.597744Z",
     "iopub.status.busy": "2025-09-28T17:39:06.597447Z",
     "iopub.status.idle": "2025-09-28T17:39:06.715437Z",
     "shell.execute_reply": "2025-09-28T17:39:06.714409Z"
    },
    "papermill": {
     "duration": 0.128086,
     "end_time": "2025-09-28T17:39:06.717332",
     "exception": false,
     "start_time": "2025-09-28T17:39:06.589246",
     "status": "completed"
    },
    "tags": []
   },
   "outputs": [],
   "source": [
    "# Ensure no NaN/inf\n",
    "df = df.replace([np.inf, -np.inf], np.nan)\n",
    "df = df.fillna(0)"
   ]
  },
  {
   "cell_type": "code",
   "execution_count": 14,
   "id": "4e4f9356",
   "metadata": {
    "execution": {
     "iopub.execute_input": "2025-09-28T17:39:06.732284Z",
     "iopub.status.busy": "2025-09-28T17:39:06.731992Z",
     "iopub.status.idle": "2025-09-28T17:39:06.756628Z",
     "shell.execute_reply": "2025-09-28T17:39:06.755654Z"
    },
    "papermill": {
     "duration": 0.034057,
     "end_time": "2025-09-28T17:39:06.758420",
     "exception": false,
     "start_time": "2025-09-28T17:39:06.724363",
     "status": "completed"
    },
    "tags": []
   },
   "outputs": [],
   "source": [
    "X = df.drop(columns=[\"logerror\"])\n",
    "y = df[\"logerror\"].values"
   ]
  },
  {
   "cell_type": "code",
   "execution_count": 15,
   "id": "9b719f58",
   "metadata": {
    "execution": {
     "iopub.execute_input": "2025-09-28T17:39:06.773379Z",
     "iopub.status.busy": "2025-09-28T17:39:06.773088Z",
     "iopub.status.idle": "2025-09-28T17:39:06.837739Z",
     "shell.execute_reply": "2025-09-28T17:39:06.836733Z"
    },
    "papermill": {
     "duration": 0.074173,
     "end_time": "2025-09-28T17:39:06.839554",
     "exception": false,
     "start_time": "2025-09-28T17:39:06.765381",
     "status": "completed"
    },
    "tags": []
   },
   "outputs": [],
   "source": [
    "X_train, X_test, y_train, y_test = train_test_split(X, y, test_size=0.2, random_state=42)"
   ]
  },
  {
   "cell_type": "code",
   "execution_count": 16,
   "id": "65c2ea95",
   "metadata": {
    "execution": {
     "iopub.execute_input": "2025-09-28T17:39:06.855817Z",
     "iopub.status.busy": "2025-09-28T17:39:06.854689Z",
     "iopub.status.idle": "2025-09-28T17:39:07.163705Z",
     "shell.execute_reply": "2025-09-28T17:39:07.162930Z"
    },
    "papermill": {
     "duration": 0.31898,
     "end_time": "2025-09-28T17:39:07.165354",
     "exception": false,
     "start_time": "2025-09-28T17:39:06.846374",
     "status": "completed"
    },
    "tags": []
   },
   "outputs": [],
   "source": [
    "scaler = StandardScaler()\n",
    "X_train_scaled = scaler.fit_transform(X_train)\n",
    "X_test_scaled = scaler.transform(X_test)\n",
    "X_scaled_full = scaler.fit_transform(X)"
   ]
  },
  {
   "cell_type": "code",
   "execution_count": 17,
   "id": "765b108a",
   "metadata": {
    "execution": {
     "iopub.execute_input": "2025-09-28T17:39:07.180336Z",
     "iopub.status.busy": "2025-09-28T17:39:07.180030Z",
     "iopub.status.idle": "2025-09-28T17:39:07.185086Z",
     "shell.execute_reply": "2025-09-28T17:39:07.183993Z"
    },
    "papermill": {
     "duration": 0.014154,
     "end_time": "2025-09-28T17:39:07.186510",
     "exception": false,
     "start_time": "2025-09-28T17:39:07.172356",
     "status": "completed"
    },
    "tags": []
   },
   "outputs": [
    {
     "name": "stdout",
     "output_type": "stream",
     "text": [
      "Shapes: (134287, 41) (33572, 41) (134287,) (33572,)\n"
     ]
    }
   ],
   "source": [
    "print(\"Shapes:\", X_train.shape, X_test.shape, y_train.shape, y_test.shape)"
   ]
  },
  {
   "cell_type": "code",
   "execution_count": 18,
   "id": "54525b46",
   "metadata": {
    "execution": {
     "iopub.execute_input": "2025-09-28T17:39:07.201308Z",
     "iopub.status.busy": "2025-09-28T17:39:07.201020Z",
     "iopub.status.idle": "2025-09-28T17:39:07.205015Z",
     "shell.execute_reply": "2025-09-28T17:39:07.204117Z"
    },
    "papermill": {
     "duration": 0.013017,
     "end_time": "2025-09-28T17:39:07.206406",
     "exception": false,
     "start_time": "2025-09-28T17:39:07.193389",
     "status": "completed"
    },
    "tags": []
   },
   "outputs": [],
   "source": [
    "results = {}"
   ]
  },
  {
   "cell_type": "code",
   "execution_count": 19,
   "id": "2a01cf8a",
   "metadata": {
    "execution": {
     "iopub.execute_input": "2025-09-28T17:39:07.221161Z",
     "iopub.status.busy": "2025-09-28T17:39:07.220857Z",
     "iopub.status.idle": "2025-09-28T17:39:07.672175Z",
     "shell.execute_reply": "2025-09-28T17:39:07.669648Z"
    },
    "papermill": {
     "duration": 0.461166,
     "end_time": "2025-09-28T17:39:07.674410",
     "exception": false,
     "start_time": "2025-09-28T17:39:07.213244",
     "status": "completed"
    },
    "tags": []
   },
   "outputs": [],
   "source": [
    "# LinearRegression\n",
    "lin_reg = LinearRegression()\n",
    "lin_reg.fit(X_train_scaled, y_train)\n",
    "lin_preds = lin_reg.predict(X_test_scaled)"
   ]
  },
  {
   "cell_type": "code",
   "execution_count": 20,
   "id": "944e2211",
   "metadata": {
    "execution": {
     "iopub.execute_input": "2025-09-28T17:39:07.699246Z",
     "iopub.status.busy": "2025-09-28T17:39:07.698408Z",
     "iopub.status.idle": "2025-09-28T17:39:15.618737Z",
     "shell.execute_reply": "2025-09-28T17:39:15.617864Z"
    },
    "papermill": {
     "duration": 7.935074,
     "end_time": "2025-09-28T17:39:15.620668",
     "exception": false,
     "start_time": "2025-09-28T17:39:07.685594",
     "status": "completed"
    },
    "tags": []
   },
   "outputs": [],
   "source": [
    "# Ridge\n",
    "ridge_params = {\"alpha\": np.logspace(-3, 2, 20)}\n",
    "ridge = Ridge()\n",
    "ridge_cv = GridSearchCV(ridge, ridge_params, scoring=\"neg_mean_absolute_error\", cv=5)\n",
    "ridge_cv.fit(X_train_scaled, y_train)\n",
    "ridge_preds = ridge_cv.predict(X_test_scaled)"
   ]
  },
  {
   "cell_type": "code",
   "execution_count": 21,
   "id": "263becd3",
   "metadata": {
    "execution": {
     "iopub.execute_input": "2025-09-28T17:39:15.635967Z",
     "iopub.status.busy": "2025-09-28T17:39:15.635639Z",
     "iopub.status.idle": "2025-09-28T17:39:36.552031Z",
     "shell.execute_reply": "2025-09-28T17:39:36.551090Z"
    },
    "papermill": {
     "duration": 20.926034,
     "end_time": "2025-09-28T17:39:36.553828",
     "exception": false,
     "start_time": "2025-09-28T17:39:15.627794",
     "status": "completed"
    },
    "tags": []
   },
   "outputs": [],
   "source": [
    "# Lasso\n",
    "lasso_params = {\"alpha\": np.logspace(-4, 1, 20)}\n",
    "lasso = Lasso(max_iter=10000)\n",
    "lasso_cv = GridSearchCV(lasso, lasso_params, scoring=\"neg_mean_absolute_error\", cv=5)\n",
    "lasso_cv.fit(X_train_scaled, y_train)\n",
    "lasso_preds = lasso_cv.predict(X_test_scaled)"
   ]
  },
  {
   "cell_type": "code",
   "execution_count": 22,
   "id": "4a4e40d3",
   "metadata": {
    "execution": {
     "iopub.execute_input": "2025-09-28T17:39:36.579070Z",
     "iopub.status.busy": "2025-09-28T17:39:36.578695Z",
     "iopub.status.idle": "2025-09-28T17:39:36.586353Z",
     "shell.execute_reply": "2025-09-28T17:39:36.584803Z"
    },
    "papermill": {
     "duration": 0.022355,
     "end_time": "2025-09-28T17:39:36.588394",
     "exception": false,
     "start_time": "2025-09-28T17:39:36.566039",
     "status": "completed"
    },
    "tags": []
   },
   "outputs": [],
   "source": [
    "lr_mae = mean_absolute_error(y_test,lin_preds)\n",
    "ridge_mae = mean_absolute_error(y_test,ridge_preds)\n",
    "lasso_mae = mean_absolute_error(y_test,lasso_preds)"
   ]
  },
  {
   "cell_type": "code",
   "execution_count": 23,
   "id": "266fa625",
   "metadata": {
    "execution": {
     "iopub.execute_input": "2025-09-28T17:39:36.612995Z",
     "iopub.status.busy": "2025-09-28T17:39:36.612637Z",
     "iopub.status.idle": "2025-09-28T17:39:36.624045Z",
     "shell.execute_reply": "2025-09-28T17:39:36.623240Z"
    },
    "papermill": {
     "duration": 0.026424,
     "end_time": "2025-09-28T17:39:36.626187",
     "exception": false,
     "start_time": "2025-09-28T17:39:36.599763",
     "status": "completed"
    },
    "tags": []
   },
   "outputs": [
    {
     "name": "stdout",
     "output_type": "stream",
     "text": [
      "Linear Regression MAE : 0.06782785600920638\n",
      "Ridge MAE : 0.06782061318932636 with alpha = 100.0\n",
      "Lasso MAE : 0.06754796430640359 with alpha = 0.00206913808111479\n",
      "\n",
      "Best Model : Lasso with MAE = 0.06754796430640359\n"
     ]
    }
   ],
   "source": [
    "print(\"Linear Regression MAE :\",lr_mae)\n",
    "print(\"Ridge MAE :\",ridge_mae,\"with alpha =\",ridge_cv.best_params_[\"alpha\"])\n",
    "print(\"Lasso MAE :\",lasso_mae,\"with alpha =\",lasso_cv.best_params_[\"alpha\"])\n",
    "\n",
    "mae_scores = {\n",
    "    \"Linear Regression\": lr_mae,\n",
    "    \"Ridge\": ridge_mae,\n",
    "    \"Lasso\": lasso_mae\n",
    "}\n",
    "\n",
    "best_model = min(mae_scores,key=mae_scores.get)\n",
    "print(\"\\nBest Model :\",best_model,\"with MAE =\",mae_scores[best_model])"
   ]
  },
  {
   "cell_type": "code",
   "execution_count": 24,
   "id": "65d841ee",
   "metadata": {
    "execution": {
     "iopub.execute_input": "2025-09-28T17:39:36.652010Z",
     "iopub.status.busy": "2025-09-28T17:39:36.651659Z",
     "iopub.status.idle": "2025-09-28T17:39:36.822735Z",
     "shell.execute_reply": "2025-09-28T17:39:36.821770Z"
    },
    "papermill": {
     "duration": 0.186744,
     "end_time": "2025-09-28T17:39:36.825104",
     "exception": false,
     "start_time": "2025-09-28T17:39:36.638360",
     "status": "completed"
    },
    "tags": []
   },
   "outputs": [
    {
     "name": "stderr",
     "output_type": "stream",
     "text": [
      "/usr/local/lib/python3.11/dist-packages/seaborn/_oldcore.py:1765: FutureWarning: unique with argument that is not not a Series, Index, ExtensionArray, or np.ndarray is deprecated and will raise in a future version.\n",
      "  order = pd.unique(vector)\n"
     ]
    },
    {
     "data": {
      "image/png": "[encoded data removed]",
      "text/plain": [
       "<Figure size 1200x600 with 1 Axes>"
      ]
     },
     "metadata": {},
     "output_type": "display_data"
    }
   ],
   "source": [
    "# MAE comparison Plot\n",
    "plt.figure(figsize=(12,6))\n",
    "sns.barplot(x=list(mae_scores.keys()),y=list(mae_scores.values()),palette=\"viridis\")\n",
    "plt.ylabel(\"MAE\")\n",
    "plt.title(\"Model Comparison\")\n",
    "plt.show()"
   ]
  },
  {
   "cell_type": "code",
   "execution_count": 25,
   "id": "992b6d30",
   "metadata": {
    "execution": {
     "iopub.execute_input": "2025-09-28T17:39:36.842290Z",
     "iopub.status.busy": "2025-09-28T17:39:36.841970Z",
     "iopub.status.idle": "2025-09-28T17:39:36.847467Z",
     "shell.execute_reply": "2025-09-28T17:39:36.846416Z"
    },
    "papermill": {
     "duration": 0.016556,
     "end_time": "2025-09-28T17:39:36.849272",
     "exception": false,
     "start_time": "2025-09-28T17:39:36.832716",
     "status": "completed"
    },
    "tags": []
   },
   "outputs": [],
   "source": [
    "if best_model == \"LinearRegression\":\n",
    "    best_model_fitted = lin_preds\n",
    "    y_pred_test = lin_preds\n",
    "elif best_model == \"Ridge\":\n",
    "    best_model_fitted = ridge_cv\n",
    "    y_pred_test = ridge_preds\n",
    "else:\n",
    "    best_model_fitted = lasso_cv\n",
    "    y_pred_test = lasso_preds"
   ]
  },
  {
   "cell_type": "code",
   "execution_count": 26,
   "id": "1aea2422",
   "metadata": {
    "execution": {
     "iopub.execute_input": "2025-09-28T17:39:36.936678Z",
     "iopub.status.busy": "2025-09-28T17:39:36.936375Z",
     "iopub.status.idle": "2025-09-28T17:39:37.479356Z",
     "shell.execute_reply": "2025-09-28T17:39:37.478186Z"
    },
    "papermill": {
     "duration": 0.55337,
     "end_time": "2025-09-28T17:39:37.481051",
     "exception": false,
     "start_time": "2025-09-28T17:39:36.927681",
     "status": "completed"
    },
    "tags": []
   },
   "outputs": [
    {
     "data": {
      "image/png": "[encoded data removed]",
      "text/plain": [
       "<Figure size 600x600 with 1 Axes>"
      ]
     },
     "metadata": {},
     "output_type": "display_data"
    }
   ],
   "source": [
    "plt.figure(figsize=(6,6))\n",
    "sns.scatterplot(x=y_test,y=y_pred_test,alpha=0.3)\n",
    "plt.xlabel(\"Actual Logerror\")\n",
    "plt.ylabel(\"Predicted Logerror\")\n",
    "plt.title(f\"{best_model}: Actual vs Predicted\")\n",
    "plt.axline((0,0),slope=1,color=\"red\",linestyle=\"--\",label=\"Best Fit\")\n",
    "plt.legend()\n",
    "plt.show()"
   ]
  },
  {
   "cell_type": "code",
   "execution_count": 27,
   "id": "300078c3",
   "metadata": {
    "execution": {
     "iopub.execute_input": "2025-09-28T17:39:37.499047Z",
     "iopub.status.busy": "2025-09-28T17:39:37.498664Z",
     "iopub.status.idle": "2025-09-28T17:39:38.081793Z",
     "shell.execute_reply": "2025-09-28T17:39:38.080924Z"
    },
    "papermill": {
     "duration": 0.593859,
     "end_time": "2025-09-28T17:39:38.083469",
     "exception": false,
     "start_time": "2025-09-28T17:39:37.489610",
     "status": "completed"
    },
    "tags": []
   },
   "outputs": [],
   "source": [
    "X_submit = prop_2017.copy()"
   ]
  },
  {
   "cell_type": "code",
   "execution_count": 28,
   "id": "c8d0525b",
   "metadata": {
    "execution": {
     "iopub.execute_input": "2025-09-28T17:39:38.101509Z",
     "iopub.status.busy": "2025-09-28T17:39:38.100954Z",
     "iopub.status.idle": "2025-09-28T17:39:38.105409Z",
     "shell.execute_reply": "2025-09-28T17:39:38.104530Z"
    },
    "papermill": {
     "duration": 0.015077,
     "end_time": "2025-09-28T17:39:38.106819",
     "exception": false,
     "start_time": "2025-09-28T17:39:38.091742",
     "status": "completed"
    },
    "tags": []
   },
   "outputs": [],
   "source": [
    "parcel_ids = X_submit[\"parcelid\"].values"
   ]
  },
  {
   "cell_type": "code",
   "execution_count": 29,
   "id": "abaf8ec4",
   "metadata": {
    "execution": {
     "iopub.execute_input": "2025-09-28T17:39:38.127699Z",
     "iopub.status.busy": "2025-09-28T17:39:38.126708Z",
     "iopub.status.idle": "2025-09-28T17:39:38.523862Z",
     "shell.execute_reply": "2025-09-28T17:39:38.522002Z"
    },
    "papermill": {
     "duration": 0.408621,
     "end_time": "2025-09-28T17:39:38.525741",
     "exception": false,
     "start_time": "2025-09-28T17:39:38.117120",
     "status": "completed"
    },
    "tags": []
   },
   "outputs": [],
   "source": [
    "X_submit = X_submit.drop(columns=drop_cols, errors=\"ignore\")"
   ]
  },
  {
   "cell_type": "code",
   "execution_count": 30,
   "id": "4bea6ff6",
   "metadata": {
    "execution": {
     "iopub.execute_input": "2025-09-28T17:39:38.544450Z",
     "iopub.status.busy": "2025-09-28T17:39:38.544131Z",
     "iopub.status.idle": "2025-09-28T17:39:38.623485Z",
     "shell.execute_reply": "2025-09-28T17:39:38.622497Z"
    },
    "papermill": {
     "duration": 0.090477,
     "end_time": "2025-09-28T17:39:38.625160",
     "exception": false,
     "start_time": "2025-09-28T17:39:38.534683",
     "status": "completed"
    },
    "tags": []
   },
   "outputs": [],
   "source": [
    "X_submit['bath_per_bed'] = X_submit['bathroomcnt']/(X_submit['bathroomcnt']+1)\n",
    "X_submit['room_sum'] = X_submit['bathroomcnt'] + X_submit['bathroomcnt']\n",
    "X_submit['living_area_ratio'] = X_submit['calculatedfinishedsquarefeet']/(X_submit['lotsizesquarefeet']+1)\n",
    "X_submit['value_per_sqft'] = X_submit['taxvaluedollarcnt']/(X_submit['calculatedfinishedsquarefeet']+1)"
   ]
  },
  {
   "cell_type": "code",
   "execution_count": 31,
   "id": "c1e370ad",
   "metadata": {
    "execution": {
     "iopub.execute_input": "2025-09-28T17:39:38.643980Z",
     "iopub.status.busy": "2025-09-28T17:39:38.643013Z",
     "iopub.status.idle": "2025-09-28T17:39:39.300388Z",
     "shell.execute_reply": "2025-09-28T17:39:39.299183Z"
    },
    "papermill": {
     "duration": 0.668865,
     "end_time": "2025-09-28T17:39:39.302358",
     "exception": false,
     "start_time": "2025-09-28T17:39:38.633493",
     "status": "completed"
    },
    "tags": []
   },
   "outputs": [],
   "source": [
    "# Encode categoricals\n",
    "for col in X_submit.select_dtypes(include=\"object\").columns:\n",
    "    X_submit[col] = X_submit[col].astype(\"category\").cat.codes"
   ]
  },
  {
   "cell_type": "code",
   "execution_count": 32,
   "id": "22fe3431",
   "metadata": {
    "execution": {
     "iopub.execute_input": "2025-09-28T17:39:39.325247Z",
     "iopub.status.busy": "2025-09-28T17:39:39.324904Z",
     "iopub.status.idle": "2025-09-28T17:39:39.709596Z",
     "shell.execute_reply": "2025-09-28T17:39:39.708448Z"
    },
    "papermill": {
     "duration": 0.398047,
     "end_time": "2025-09-28T17:39:39.711579",
     "exception": false,
     "start_time": "2025-09-28T17:39:39.313532",
     "status": "completed"
    },
    "tags": []
   },
   "outputs": [],
   "source": [
    "X_submit = X_submit.drop(columns=[\"parcelid\"],errors=\"ignore\")"
   ]
  },
  {
   "cell_type": "code",
   "execution_count": 33,
   "id": "a740ad86",
   "metadata": {
    "execution": {
     "iopub.execute_input": "2025-09-28T17:39:39.730531Z",
     "iopub.status.busy": "2025-09-28T17:39:39.730185Z",
     "iopub.status.idle": "2025-09-28T17:39:40.095455Z",
     "shell.execute_reply": "2025-09-28T17:39:40.094369Z"
    },
    "papermill": {
     "duration": 0.376967,
     "end_time": "2025-09-28T17:39:40.097246",
     "exception": false,
     "start_time": "2025-09-28T17:39:39.720279",
     "status": "completed"
    },
    "tags": []
   },
   "outputs": [],
   "source": [
    "X_submit = X_submit.reindex(columns=X.columns,fill_value=0)"
   ]
  },
  {
   "cell_type": "code",
   "execution_count": 34,
   "id": "0288731a",
   "metadata": {
    "execution": {
     "iopub.execute_input": "2025-09-28T17:39:40.115731Z",
     "iopub.status.busy": "2025-09-28T17:39:40.115056Z",
     "iopub.status.idle": "2025-09-28T17:39:41.218210Z",
     "shell.execute_reply": "2025-09-28T17:39:41.217331Z"
    },
    "papermill": {
     "duration": 1.114152,
     "end_time": "2025-09-28T17:39:41.219818",
     "exception": false,
     "start_time": "2025-09-28T17:39:40.105666",
     "status": "completed"
    },
    "tags": []
   },
   "outputs": [],
   "source": [
    "for col in X_submit.columns:\n",
    "    if X_submit[col].dtype in [np.float64,np.int64]:\n",
    "        X_submit[col] = X_submit[col].fillna(df[col].median())\n",
    "    else:\n",
    "        X_submit[col] = X_submit[col].fillna(0)"
   ]
  },
  {
   "cell_type": "code",
   "execution_count": 35,
   "id": "6ad2655a",
   "metadata": {
    "execution": {
     "iopub.execute_input": "2025-09-28T17:39:41.238227Z",
     "iopub.status.busy": "2025-09-28T17:39:41.237894Z",
     "iopub.status.idle": "2025-09-28T17:39:42.399515Z",
     "shell.execute_reply": "2025-09-28T17:39:42.398195Z"
    },
    "papermill": {
     "duration": 1.17322,
     "end_time": "2025-09-28T17:39:42.401463",
     "exception": false,
     "start_time": "2025-09-28T17:39:41.228243",
     "status": "completed"
    },
    "tags": []
   },
   "outputs": [],
   "source": [
    "X_submit_scaled = scaler.transform(X_submit)"
   ]
  },
  {
   "cell_type": "code",
   "execution_count": 36,
   "id": "336e6d24",
   "metadata": {
    "execution": {
     "iopub.execute_input": "2025-09-28T17:39:42.421203Z",
     "iopub.status.busy": "2025-09-28T17:39:42.420879Z",
     "iopub.status.idle": "2025-09-28T17:39:42.425434Z",
     "shell.execute_reply": "2025-09-28T17:39:42.424514Z"
    },
    "papermill": {
     "duration": 0.017003,
     "end_time": "2025-09-28T17:39:42.427311",
     "exception": false,
     "start_time": "2025-09-28T17:39:42.410308",
     "status": "completed"
    },
    "tags": []
   },
   "outputs": [],
   "source": [
    "if best_model == \"Linear Regression\":\n",
    "    best_model_fitted = lin_reg\n",
    "elif best_model == \"Ridge\":\n",
    "    best_model_fitted = ridge_cv.best_estimator_\n",
    "else:\n",
    "    best_model_fitted = lasso_cv.best_estimator_"
   ]
  },
  {
   "cell_type": "code",
   "execution_count": 37,
   "id": "0e319e76",
   "metadata": {
    "execution": {
     "iopub.execute_input": "2025-09-28T17:39:42.445283Z",
     "iopub.status.busy": "2025-09-28T17:39:42.444989Z",
     "iopub.status.idle": "2025-09-28T17:39:42.607073Z",
     "shell.execute_reply": "2025-09-28T17:39:42.606209Z"
    },
    "papermill": {
     "duration": 0.172893,
     "end_time": "2025-09-28T17:39:42.608690",
     "exception": false,
     "start_time": "2025-09-28T17:39:42.435797",
     "status": "completed"
    },
    "tags": []
   },
   "outputs": [],
   "source": [
    "preds = best_model_fitted.predict(X_submit_scaled)"
   ]
  },
  {
   "cell_type": "code",
   "execution_count": 38,
   "id": "05718ef4",
   "metadata": {
    "execution": {
     "iopub.execute_input": "2025-09-28T17:39:42.628698Z",
     "iopub.status.busy": "2025-09-28T17:39:42.627477Z",
     "iopub.status.idle": "2025-09-28T17:39:42.679417Z",
     "shell.execute_reply": "2025-09-28T17:39:42.678570Z"
    },
    "papermill": {
     "duration": 0.063111,
     "end_time": "2025-09-28T17:39:42.681146",
     "exception": false,
     "start_time": "2025-09-28T17:39:42.618035",
     "status": "completed"
    },
    "tags": []
   },
   "outputs": [],
   "source": [
    "for col in sample_submission.columns[1:]:\n",
    "    sample_submission[col] = preds"
   ]
  },
  {
   "cell_type": "code",
   "execution_count": 39,
   "id": "453d1475",
   "metadata": {
    "execution": {
     "iopub.execute_input": "2025-09-28T17:39:42.698714Z",
     "iopub.status.busy": "2025-09-28T17:39:42.698446Z",
     "iopub.status.idle": "2025-09-28T17:40:17.236382Z",
     "shell.execute_reply": "2025-09-28T17:40:17.234762Z"
    },
    "papermill": {
     "duration": 34.557064,
     "end_time": "2025-09-28T17:40:17.246374",
     "exception": false,
     "start_time": "2025-09-28T17:39:42.689310",
     "status": "completed"
    },
    "tags": []
   },
   "outputs": [
    {
     "name": "stdout",
     "output_type": "stream",
     "text": [
      "Submission file saved as zillow_submission.csv\n"
     ]
    }
   ],
   "source": [
    "sample_submission.to_csv(\"zillow_submission_new1.csv\", index=False)\n",
    "print(\"Submission file saved as zillow_submission.csv\")"
   ]
  },
  {
   "cell_type": "code",
   "execution_count": 40,
   "id": "65f558e2",
   "metadata": {
    "execution": {
     "iopub.execute_input": "2025-09-28T17:40:17.269459Z",
     "iopub.status.busy": "2025-09-28T17:40:17.269184Z",
     "iopub.status.idle": "2025-09-28T17:40:17.273976Z",
     "shell.execute_reply": "2025-09-28T17:40:17.272984Z"
    },
    "papermill": {
     "duration": 0.016575,
     "end_time": "2025-09-28T17:40:17.275791",
     "exception": false,
     "start_time": "2025-09-28T17:40:17.259216",
     "status": "completed"
    },
    "tags": []
   },
   "outputs": [],
   "source": [
    "# !kaggle competitions submit -c zillow-prize-1 -f zillow_submission.csv -m \"Best model: {best_model_name}\""
   ]
  }
 ],
 "metadata": {
  "kaggle": {
   "accelerator": "none",
   "dataSources": [
    {
     "databundleVersionId": 860670,
     "sourceId": 6649,
     "sourceType": "competition"
    }
   ],
   "dockerImageVersionId": 31089,
   "isGpuEnabled": false,
   "isInternetEnabled": true,
   "language": "python",
   "sourceType": "notebook"
  },
  "kernelspec": {
   "display_name": "Python 3",
   "language": "python",
   "name": "python3"
  },
  "language_info": {
   "codemirror_mode": {
    "name": "ipython",
    "version": 3
   },
   "file_extension": ".py",
   "mimetype": "text/x-python",
   "name": "python",
   "nbconvert_exporter": "python",
   "pygments_lexer": "ipython3",
   "version": "3.11.13"
  },
  "papermill": {
   "default_parameters": {},
   "duration": 138.485231,
   "end_time": "2025-09-28T17:40:18.210389",
   "environment_variables": {},
   "exception": null,
   "input_path": "__notebook__.ipynb",
   "output_path": "__notebook__.ipynb",
   "parameters": {},
   "start_time": "2025-09-28T17:37:59.725158",
   "version": "2.6.0"
  }
 },
 "nbformat": 4,
 "nbformat_minor": 5
}
